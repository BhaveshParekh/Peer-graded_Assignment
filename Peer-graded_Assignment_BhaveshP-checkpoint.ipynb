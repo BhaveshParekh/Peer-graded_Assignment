{
 "cells": [
  {
   "cell_type": "markdown",
   "id": "1d2ccf94",
   "metadata": {},
   "source": [
    "# Data Science Peer Graded Assignment\n"
   ]
  },
  {
   "cell_type": "markdown",
   "id": "9e9ad364",
   "metadata": {},
   "source": []
  },
  {
   "cell_type": "markdown",
   "id": "83655982",
   "metadata": {},
   "source": [
    "## Introduction\n",
    "\n",
    "Markdown cell allows you to write and format of text. It's light weight mark up language. Markdown cells are particularly useful for documenting your code, explaining your thought process, or providing instructions within your Jupyter Notebook."
   ]
  },
  {
   "cell_type": "markdown",
   "id": "5f07adef",
   "metadata": {},
   "source": [
    "## List of popular data science languages:"
   ]
  },
  {
   "cell_type": "markdown",
   "id": "46d71b13",
   "metadata": {},
   "source": [
    "1. Python\n",
    "2. R\n",
    "3. Javascript\n",
    "4. Scala\n",
    "5. Julia"
   ]
  },
  {
   "cell_type": "markdown",
   "id": "12ff596a",
   "metadata": {},
   "source": [
    "## List of data science tools:\n",
    "\n",
    "## Opensource Tools\n",
    "\n",
    "#### Data management tools\n",
    "MySQL, PostgreSQL, MongoDB, Hadoop, Casandra\n",
    "\n",
    "#### Data integration tools\n",
    "SparkSQL, Airflow, Kuberflow, \n",
    "\n",
    "#### Data Visualization tools \n",
    "Kibana, Hue\n",
    "\n",
    "#### Model Deployment tools\n",
    "Kubernetes, TensorFlow, PredictionIO\n",
    "\n",
    "#### Model monitoring tools \n",
    "ModelDB, Prometheus, IBM AI Fairness 360\n",
    "\n",
    "#### Code asset management tools \n",
    "Git, GitHub, GitLab\n",
    "\n",
    "#### Data asset management tools \n",
    "Apache Atlas, Kylo\n",
    "\n",
    "## Paid Tools\n",
    "\n",
    "Tableau, Microsoft Power BI, and IBM Cognos Analytics\n"
   ]
  },
  {
   "cell_type": "markdown",
   "id": "c3c1e213",
   "metadata": {},
   "source": [
    "## List of data science libraries:\n",
    "\n",
    "1. Pandas\n",
    "2. Numpy\n",
    "3. SciPy\n",
    "4. PyTorch\n",
    "5. TensorFlow\n",
    "6. Matplotlib\n"
   ]
  },
  {
   "cell_type": "markdown",
   "id": "26246fa1",
   "metadata": {},
   "source": [
    "# Basic arithmetic expression"
   ]
  },
  {
   "cell_type": "markdown",
   "id": "c96c73ae",
   "metadata": {},
   "source": [
    "Arithmetic expressions are fundamental in programming and mathematics, representing operations such as addition, subtraction, multiplication, and division. In this section, we'll explore some common arithmetic expressions using basic mathematical operators.\n",
    "\n",
    "## Addition\n",
    "\n",
    "result = 15 + 10\n",
    "print(\"15 + 10 =\", result)\n",
    "\n",
    "## Subscription\n",
    "\n",
    "result = 18 - 5\n",
    "print(\"18 - 5 =\", result)\n",
    "\n",
    "## Multiplication\n",
    "\n",
    "result = 7 * 4\n",
    "print(\"7 * 4 =\", result)\n",
    "\n",
    "## Division\n",
    "\n",
    "result = 15 / 3\n",
    "print(\"15 / 3 =\", result)"
   ]
  },
  {
   "cell_type": "markdown",
   "id": "c4bf4604",
   "metadata": {},
   "source": [
    "## Multiply and Add a number"
   ]
  },
  {
   "cell_type": "code",
   "execution_count": 4,
   "id": "0d70f3d4",
   "metadata": {},
   "outputs": [
    {
     "data": {
      "text/plain": [
       "23"
      ]
     },
     "execution_count": 4,
     "metadata": {},
     "output_type": "execute_result"
    }
   ],
   "source": [
    "# Multiply and Add a number\n",
    "(5*4)+3"
   ]
  },
  {
   "cell_type": "markdown",
   "id": "58b244e1",
   "metadata": {},
   "source": [
    "## Convert minutes to hours"
   ]
  },
  {
   "cell_type": "code",
   "execution_count": 6,
   "id": "4b691064",
   "metadata": {},
   "outputs": [
    {
     "name": "stdout",
     "output_type": "stream",
     "text": [
      "120 minutes is equal to 2.0 hours.\n"
     ]
    }
   ],
   "source": [
    "minutes = 120\n",
    "hours = minutes / 60\n",
    "\n",
    "print(minutes, \"minutes is equal to\", hours, \"hours.\")"
   ]
  },
  {
   "cell_type": "markdown",
   "id": "ce889803",
   "metadata": {},
   "source": [
    "## Objectives\n",
    "\n",
    "\n",
    "In this notebook, we aim to achieve the following objectives:\n",
    "\n",
    "1. **Introduction to Markdown**: Learn the basics of Markdown syntax and its usage in Jupyter Notebooks.\n",
    "\n",
    "2. **Arithmetic Expressions**: Explore examples of arithmetic expressions using addition, subtraction, multiplication, and division.\n",
    "\n",
    "3. **Conversion**: Convert minutes to hours using Python code.\n",
    "\n",
    "4. **Data Analysis**: Perform basic data analysis on a sample dataset.\n",
    "\n",
    "5. **Visualization**: Create visualizations using matplotlib to better understand the data.\n",
    "\n",
    "6. **Conclusion**: Summarize the key findings and insights obtained from the analysis.\n",
    "\n",
    "By the end of this notebook, you should have a good understanding of Markdown formatting, basic arithmetic operations, data analysis techniques, and visualization in Jupyter Notebooks."
   ]
  },
  {
   "cell_type": "markdown",
   "id": "0c48e860",
   "metadata": {},
   "source": [
    "## Author Name\n",
    "\n",
    "### Bhavesh Parekh"
   ]
  },
  {
   "cell_type": "code",
   "execution_count": null,
   "id": "cdd05ccc",
   "metadata": {},
   "outputs": [],
   "source": []
  }
 ],
 "metadata": {
  "kernelspec": {
   "display_name": "Python 3 (ipykernel)",
   "language": "python",
   "name": "python3"
  },
  "language_info": {
   "codemirror_mode": {
    "name": "ipython",
    "version": 3
   },
   "file_extension": ".py",
   "mimetype": "text/x-python",
   "name": "python",
   "nbconvert_exporter": "python",
   "pygments_lexer": "ipython3",
   "version": "3.11.5"
  }
 },
 "nbformat": 4,
 "nbformat_minor": 5
}
